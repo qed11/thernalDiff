{
 "metadata": {
  "language_info": {
   "codemirror_mode": {
    "name": "ipython",
    "version": 3
   },
   "file_extension": ".py",
   "mimetype": "text/x-python",
   "name": "python",
   "nbconvert_exporter": "python",
   "pygments_lexer": "ipython3",
   "version": "3.8.3-final"
  },
  "orig_nbformat": 2,
  "kernelspec": {
   "name": "python3",
   "display_name": "Python 3.8.3 64-bit ('env')",
   "metadata": {
    "interpreter": {
     "hash": "64d340156c35d93f7bddad49a84fcf8e8f249688e881a51f12f09c161c041098"
    }
   }
  }
 },
 "nbformat": 4,
 "nbformat_minor": 2,
 "cells": [
  {
   "cell_type": "code",
   "execution_count": 37,
   "metadata": {},
   "outputs": [],
   "source": [
    "import helpers\n",
    "import numpy as np\n",
    "import matplotlib.pyplot as plt\n",
    "import scipy.special as fnc\n",
    "%matplotlib widget\n",
    "r_diff = 9.594\n",
    "means = []"
   ]
  },
  {
   "cell_type": "code",
   "execution_count": 25,
   "metadata": {},
   "outputs": [],
   "source": [
    "def get_dist(coord_dict,time):\n",
    "    '''\n",
    "    a function to get the phase difference of the temperature applied and measured temperature\n",
    "    :param: coord_dict: a dictionary holding coordinates of mouse clicks\n",
    "    :param: time: time between changes of temperature\n",
    "    '''\n",
    "    x_list = coord_dict['x']\n",
    "    reference = np.linspace(0,len(x_list)+1,len(x_list)+2)*time+time/2\n",
    "    phase = []\n",
    "    for i in range(len(x_list)):\n",
    "        print(x_list[i])\n",
    "        phase.append(x_list[i]-reference[i])\n",
    "    return phase"
   ]
  },
  {
   "cell_type": "code",
   "execution_count": 73,
   "metadata": {},
   "outputs": [],
   "source": [
    "coordsdict = {\"x\": [], \"y\": []} #initialize coordinate dictionary"
   ]
  },
  {
   "cell_type": "code",
   "execution_count": 61,
   "metadata": {},
   "outputs": [
    {
     "output_type": "display_data",
     "data": {
      "text/plain": "Canvas(toolbar=Toolbar(toolitems=[('Home', 'Reset original view', 'home', 'home'), ('Back', 'Back to previous …",
      "application/vnd.jupyter.widget-view+json": {
       "version_major": 2,
       "version_minor": 0,
       "model_id": "115e1b2fb1834c6187a1481f4abbda9d"
      }
     },
     "metadata": {}
    }
   ],
   "source": [
    "\n",
    "#diffcoordsdict = {\"dx\": [], \"dy\": [], \"avgx\": [], \"avgy\": []}\n",
    "\n",
    "y_buf = [-1]\n",
    "x_buf = [-1]\n",
    "\n",
    "\n",
    "\n",
    "def onclick(event): \n",
    "    coordsdict[\"x\"].append(event.xdata)\n",
    "    coordsdict[\"y\"].append(event.ydata)\n",
    "\n",
    "fig, ax = plt.subplots()\n",
    "\n",
    "#initialize a plot we can use to get coordinates\n",
    "\n",
    "\n",
    "time_5,temp_5 = helpers.reader('FiveMinutes.txt')\n",
    "sqrtime_5, sqr_5 = helpers.square_wave(5.2,98.7,300,True,2000)\n",
    "\n",
    "\n",
    "ax.plot(time_5,temp_5,sqrtime_5,sqr_5)\n",
    "\n",
    "cid = fig.canvas.mpl_connect('button_press_event', onclick) \n",
    "plt.show()\n"
   ]
  },
  {
   "cell_type": "code",
   "execution_count": 75,
   "metadata": {},
   "outputs": [],
   "source": [
    "#a block to clear the plot\n",
    "plt.clf()"
   ]
  },
  {
   "source": [
    "#plot 5 min situation\n",
    "time_5,temp_5 = helpers.reader('FiveMinutes.txt')\n",
    "sqrtime_5, sqr_5 = helpers.square_wave(5.2,98.7,300,True,2000)\n",
    "plt.plot(time_5,temp_5,sqrtime_5,sqr_5)\n",
    "plt.xlabel('time (s)')\n",
    "plt.ylabel('temperature (°C)')\n",
    "plt.title('Temperature vs Time in Rubber, Period = 5 min')\n",
    "plt.show()"
   ],
   "cell_type": "code",
   "metadata": {},
   "execution_count": 17,
   "outputs": []
  },
  {
   "cell_type": "code",
   "execution_count": 53,
   "metadata": {},
   "outputs": [],
   "source": [
    "#plot 4 min situation\n",
    "time_4,temp_4 = helpers.reader('FourMinutes.txt')\n",
    "sqrtime_4, sqr_4 = helpers.square_wave(5.2,98.7,240,False,1500)\n",
    "plt.plot(time_4,temp_4,sqrtime_4,sqr_4)\n",
    "plt.xlabel('time (s)')\n",
    "plt.ylabel('temperature (°C)')\n",
    "plt.title('Temperature vs Time in Rubber, Period = 4 min')\n",
    "plt.show()"
   ]
  },
  {
   "cell_type": "code",
   "execution_count": 63,
   "metadata": {},
   "outputs": [],
   "source": [
    "#plot 3 min situation\n",
    "time_3,temp_3 = helpers.reader('ThreeMinutes.txt')\n",
    "sqrtime_3, sqr_3 = helpers.square_wave(5.2,98.7,180,False,1400)\n",
    "plt.plot(time_3,temp_3,sqrtime_3,sqr_3)\n",
    "plt.xlabel('time (s)')\n",
    "plt.ylabel('temperature (°C)')\n",
    "plt.title('Temperature vs Time in Rubber, Period = 3 min')\n",
    "plt.show()"
   ]
  },
  {
   "cell_type": "code",
   "execution_count": 76,
   "metadata": {},
   "outputs": [],
   "source": [
    "#plot 2 min situation\n",
    "time_2,temp_2 = helpers.reader('TwoMinutes.txt')\n",
    "sqrtime_2, sqr_2 = helpers.square_wave(5.2,98.7,120,False,800)\n",
    "plt.plot(time_2,temp_2,sqrtime_2,sqr_2)\n",
    "plt.xlabel('time (s)')\n",
    "plt.ylabel('temperature (°C)')\n",
    "plt.title('Temperature vs Time in Rubber, Period = 2 min')\n",
    "plt.show()"
   ]
  },
  {
   "cell_type": "code",
   "execution_count": 77,
   "metadata": {},
   "outputs": [
    {
     "output_type": "stream",
     "name": "stdout",
     "text": [
      "{'x': [139.70362632505356, 272.7681424540858, 393.41330374440844, 510.51007793795685, 629.3810456798924], 'y': [17.67678560870035, 64.8410712174007, 36.608928360257835, 69.26964264597211, 39.37678550311498]}\n"
     ]
    }
   ],
   "source": [
    "#just print out and see our clicks\n",
    "print(coordsdict)"
   ]
  },
  {
   "cell_type": "code",
   "execution_count": 81,
   "metadata": {},
   "outputs": [
    {
     "output_type": "stream",
     "name": "stdout",
     "text": [
      "[92.76814245408582, 93.41330374440844, 90.51007793795685, 89.3810456798924]\n1.891869710743278\n"
     ]
    }
   ],
   "source": [
    "phase = get_dist(coordsdict,120) #calculate the time difference in each pair of data points. Comment this line out if need adjustments\n",
    "print(phase)\n",
    "print(np.std(phase,ddof=1))"
   ]
  },
  {
   "cell_type": "code",
   "execution_count": 80,
   "metadata": {},
   "outputs": [
    {
     "output_type": "execute_result",
     "data": {
      "text/plain": [
       "79.70362632505356"
      ]
     },
     "metadata": {},
     "execution_count": 80
    }
   ],
   "source": [
    "#the adjustments\n",
    "phase.pop(0)"
   ]
  },
  {
   "cell_type": "code",
   "execution_count": 82,
   "metadata": {},
   "outputs": [
    {
     "output_type": "stream",
     "name": "stdout",
     "text": [
      "[163.4526141997307, 141.56627516592695, 114.38053961723077, 91.51814245408588]\n"
     ]
    }
   ],
   "source": [
    "#calculate mean\n",
    "import statistics\n",
    "means.append(statistics.mean(phase))\n",
    "print(means)"
   ]
  },
  {
   "cell_type": "code",
   "execution_count": 84,
   "metadata": {},
   "outputs": [],
   "source": [
    "#write the value to a text file\n",
    "with open(\"phaseDiff.txt\",'w') as f:\n",
    "    f.write(str(means))"
   ]
  },
  {
   "cell_type": "code",
   "execution_count": null,
   "metadata": {},
   "outputs": [],
   "source": []
  }
 ]
}