{
 "metadata": {
  "language_info": {
   "codemirror_mode": {
    "name": "ipython",
    "version": 3
   },
   "file_extension": ".py",
   "mimetype": "text/x-python",
   "name": "python",
   "nbconvert_exporter": "python",
   "pygments_lexer": "ipython3",
   "version": "3.8.3-final"
  },
  "orig_nbformat": 2,
  "kernelspec": {
   "name": "python3",
   "display_name": "Python 3.8.3 64-bit ('env')",
   "metadata": {
    "interpreter": {
     "hash": "64d340156c35d93f7bddad49a84fcf8e8f249688e881a51f12f09c161c041098"
    }
   }
  }
 },
 "nbformat": 4,
 "nbformat_minor": 2,
 "cells": [
  {
   "cell_type": "code",
   "execution_count": 1,
   "metadata": {},
   "outputs": [],
   "source": [
    "import helpers\n",
    "import numpy as np\n",
    "import matplotlib.pyplot as plt\n",
    "import scipy.special as fnc\n",
    "%matplotlib widget\n",
    "r_diff = 9.594\n",
    "means = []"
   ]
  },
  {
   "cell_type": "code",
   "execution_count": 44,
   "metadata": {},
   "outputs": [
    {
     "output_type": "display_data",
     "data": {
      "text/plain": "Canvas(toolbar=Toolbar(toolitems=[('Home', 'Reset original view', 'home', 'home'), ('Back', 'Back to previous …",
      "application/vnd.jupyter.widget-view+json": {
       "version_major": 2,
       "version_minor": 0,
       "model_id": "c3bff19ed6b94e9293ba314110b30353"
      }
     },
     "metadata": {}
    }
   ],
   "source": [
    "coordsdict = {\"x\": [], \"y\": []}\n",
    "#diffcoordsdict = {\"dx\": [], \"dy\": [], \"avgx\": [], \"avgy\": []}\n",
    "\n",
    "y_buf = [-1]\n",
    "x_buf = [-1]\n",
    "\n",
    "\n",
    "\n",
    "def onclick(event): \n",
    "    coordsdict[\"x\"].append(event.xdata)\n",
    "    coordsdict[\"y\"].append(event.ydata)\n",
    "\n",
    "fig, ax = plt.subplots()\n",
    "\n",
    "time_5,temp_5 = helpers.reader('FiveMinutes.txt')\n",
    "sqrtime_5, sqr_5 = helpers.square_wave(5.2,98.7,300,True,2000)\n",
    "\n",
    "\n",
    "ax.plot(time_5,temp_5,sqrtime_5,sqr_5)\n",
    "\n",
    "cid = fig.canvas.mpl_connect('button_press_event', onclick) \n",
    "plt.show()\n"
   ]
  },
  {
   "source": [
    "\n",
    "time_5,temp_5 = helpers.reader('FiveMinutes.txt')\n",
    "sqrtime_5, sqr_5 = helpers.square_wave(5.2,98.7,300,True,2000)\n",
    "#plt.subplot(224)\n",
    "plt.plot(time_5,temp_5,sqrtime_5,sqr_5)\n",
    "plt.xlabel('time (s)')\n",
    "plt.ylabel('temperature (°C)')\n",
    "plt.title('Temperature vs Time in Rubber, Period = 5 min')\n",
    "plt.show()\n"
   ],
   "cell_type": "code",
   "metadata": {},
   "execution_count": 31,
   "outputs": []
  },
  {
   "cell_type": "code",
   "execution_count": 39,
   "metadata": {},
   "outputs": [],
   "source": [
    "plt.clf()"
   ]
  },
  {
   "cell_type": "code",
   "execution_count": 18,
   "metadata": {},
   "outputs": [],
   "source": [
    "time_4,temp_4 = helpers.reader('FourMinutes.txt')\n",
    "sqrtime_4, sqr_4 = helpers.square_wave(5.2,98.7,240,False,1500)\n",
    "#subplot(223)\n",
    "plt.plot(time_4,temp_4,sqrtime_4,sqr_4)\n",
    "plt.xlabel('time (s)')\n",
    "plt.ylabel('temperature (°C)')\n",
    "plt.title('Temperature vs Time in Rubber, Period = 4 min')\n",
    "plt.show()"
   ]
  },
  {
   "cell_type": "code",
   "execution_count": 45,
   "metadata": {},
   "outputs": [],
   "source": [
    "plt.clf()"
   ]
  },
  {
   "cell_type": "code",
   "execution_count": 40,
   "metadata": {},
   "outputs": [],
   "source": [
    "time_3,temp_3 = helpers.reader('ThreeMinutes.txt')\n",
    "sqrtime_3, sqr_3 = helpers.square_wave(5.2,98.7,180,False,1400)\n",
    "#plt.subplot(222)\n",
    "plt.plot(time_3,temp_3,sqrtime_3,sqr_3)\n",
    "plt.xlabel('time (s)')\n",
    "plt.ylabel('temperature (°C)')\n",
    "plt.title('Temperature vs Time in Rubber, Period = 3 min')\n",
    "plt.show()"
   ]
  },
  {
   "cell_type": "code",
   "execution_count": null,
   "metadata": {},
   "outputs": [],
   "source": [
    "plt.clf()"
   ]
  },
  {
   "cell_type": "code",
   "execution_count": 46,
   "metadata": {},
   "outputs": [],
   "source": [
    "time_2,temp_2 = helpers.reader('TwoMinutes.txt')\n",
    "sqrtime_2, sqr_2 = helpers.square_wave(5.2,98.7,120,False,800)\n",
    "#plt.subplot(221)\n",
    "plt.plot(time_2,temp_2,sqrtime_2,sqr_2)\n",
    "plt.xlabel('time (s)')\n",
    "plt.ylabel('temperature (°C)')\n",
    "plt.title('Temperature vs Time in Rubber, Period = 2 min')\n",
    "plt.show()"
   ]
  },
  {
   "cell_type": "code",
   "execution_count": 47,
   "metadata": {},
   "outputs": [
    {
     "output_type": "stream",
     "name": "stdout",
     "text": [
      "{'x': [178.73588438956972, 272.7681424540858, 297.6068521315052, 391.63911019602136, 414.70362632505356, 512.2842714863439, 538.8971747121504, 631.1552392282795], 'y': [97.83392857142857, 64.89642857142857, 4.833928571428576, 36.3875, 97.83392857142857, 69.0482142857143, 5.1107142857142875, 39.432142857142864]}\n"
     ]
    }
   ],
   "source": [
    "print(coordsdict)"
   ]
  },
  {
   "cell_type": "code",
   "execution_count": 48,
   "metadata": {},
   "outputs": [],
   "source": [
    "def get_dist(coord_dict):\n",
    "    x_list = coord_dict['x']\n",
    "    phase = []\n",
    "    for i in range(0,len(x_list),2):\n",
    "        print(x_list[i], x_list[i+1])\n",
    "        phase.append(x_list[i+1]-x_list[i])\n",
    "    return phase"
   ]
  },
  {
   "cell_type": "code",
   "execution_count": 50,
   "metadata": {},
   "outputs": [
    {
     "output_type": "stream",
     "name": "stdout",
     "text": [
      "178.73588438956972 272.7681424540858\n297.6068521315052 391.63911019602136\n414.70362632505356 512.2842714863439\n538.8971747121504 631.1552392282795\n[94.0322580645161, 94.03225806451616, 97.5806451612903, 92.25806451612902]\n"
     ]
    }
   ],
   "source": [
    "phase = helpers.get_dist(coordsdict)\n",
    "print(phase)"
   ]
  },
  {
   "cell_type": "code",
   "execution_count": 52,
   "metadata": {},
   "outputs": [
    {
     "output_type": "stream",
     "name": "stdout",
     "text": [
      "[139.05241935483872, 164.1129032258065, 113.32661290322584, 113.32661290322584, 94.4758064516129, 94.4758064516129]\n"
     ]
    }
   ],
   "source": [
    "import statistics\n",
    "means.append(statistics.mean(phase))\n",
    "print(means)"
   ]
  },
  {
   "cell_type": "code",
   "execution_count": 54,
   "metadata": {},
   "outputs": [],
   "source": [
    "with open(\"phaseDiff.txt\",'w') as f:\n",
    "    f.write(str(means))"
   ]
  }
 ]
}