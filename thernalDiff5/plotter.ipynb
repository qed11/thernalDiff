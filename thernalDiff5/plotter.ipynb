{
 "metadata": {
  "language_info": {
   "codemirror_mode": {
    "name": "ipython",
    "version": 3
   },
   "file_extension": ".py",
   "mimetype": "text/x-python",
   "name": "python",
   "nbconvert_exporter": "python",
   "pygments_lexer": "ipython3",
   "version": "3.8.3-final"
  },
  "orig_nbformat": 2,
  "kernelspec": {
   "name": "python3",
   "display_name": "Python 3.8.3 64-bit ('env')",
   "metadata": {
    "interpreter": {
     "hash": "64d340156c35d93f7bddad49a84fcf8e8f249688e881a51f12f09c161c041098"
    }
   }
  }
 },
 "nbformat": 4,
 "nbformat_minor": 2,
 "cells": [
  {
   "cell_type": "code",
   "execution_count": 91,
   "metadata": {},
   "outputs": [],
   "source": [
    "import helpers\n",
    "import numpy as np\n",
    "import matplotlib.pyplot as plt\n",
    "import scipy.special as fnc\n",
    "%matplotlib widget\n",
    "r_diff = 9.594\n",
    "means = []"
   ]
  },
  {
   "cell_type": "code",
   "execution_count": 92,
   "metadata": {},
   "outputs": [],
   "source": [
    "def get_dist(coord_dict,time):\n",
    "    '''\n",
    "    a function to get the phase difference of the temperature applied and measured temperature\n",
    "    :param: coord_dict: a dictionary holding coordinates of mouse clicks\n",
    "    :param: time: time between changes of temperature\n",
    "    '''\n",
    "    x_list = coord_dict['x']\n",
    "    reference = np.linspace(0,len(x_list)+1,len(x_list)+2)*time+time/2\n",
    "    phase = []\n",
    "    for i in range(len(x_list)):\n",
    "        print(x_list[i])\n",
    "        phase.append(x_list[i]-reference[i])\n",
    "    return phase"
   ]
  },
  {
   "cell_type": "code",
   "execution_count": 93,
   "metadata": {},
   "outputs": [],
   "source": [
    "coordsdict = {\"x\": [], \"y\": []} #initialize coordinate dictionary"
   ]
  },
  {
   "cell_type": "code",
   "execution_count": 112,
   "metadata": {},
   "outputs": [
    {
     "output_type": "display_data",
     "data": {
      "text/plain": "Canvas(toolbar=Toolbar(toolitems=[('Home', 'Reset original view', 'home', 'home'), ('Back', 'Back to previous …",
      "application/vnd.jupyter.widget-view+json": {
       "version_major": 2,
       "version_minor": 0,
       "model_id": "6c2da6b4297c4ff98710c58a1c97e534"
      }
     },
     "metadata": {}
    }
   ],
   "source": [
    "\n",
    "#diffcoordsdict = {\"dx\": [], \"dy\": [], \"avgx\": [], \"avgy\": []}\n",
    "\n",
    "y_buf = [-1]\n",
    "x_buf = [-1]\n",
    "\n",
    "\n",
    "\n",
    "def onclick(event): \n",
    "    coordsdict[\"x\"].append(event.xdata)\n",
    "    coordsdict[\"y\"].append(event.ydata)\n",
    "\n",
    "fig, ax = plt.subplots()\n",
    "\n",
    "#initialize a plot we can use to get coordinates\n",
    "\n",
    "\"\"\"\n",
    "time_5,temp_5 = helpers.reader('FiveMinutes.txt')\n",
    "sqrtime_5, sqr_5 = helpers.square_wave(5.2,98.7,300,True,2000)\n",
    "\n",
    "\n",
    "ax.plot(time_5,temp_5,sqrtime_5,sqr_5)\n",
    "\"\"\"\n",
    "\n",
    "cid = fig.canvas.mpl_connect('button_press_event', onclick) \n",
    "plt.show()\n"
   ]
  },
  {
   "cell_type": "code",
   "execution_count": 130,
   "metadata": {},
   "outputs": [],
   "source": [
    "#a block to clear the plot\n",
    "plt.clf()"
   ]
  },
  {
   "source": [
    "#plot 5 min situation\n",
    "time_5,temp_5 = helpers.reader('FiveMinutes.txt')\n",
    "sqrtime_5, sqr_5 = helpers.square_wave(5.2,98.7,300,True,2000)\n",
    "plt.plot(time_5,temp_5,sqrtime_5,sqr_5)\n",
    "plt.ylim(ymax = 120, ymin = 0)\n",
    "plt.xlabel('Time (s)')\n",
    "plt.ylabel('Temperature (°C)')\n",
    "plt.title('Temperature vs Time in Rubber, Period = 5 min')\n",
    "\n",
    "plt.show()"
   ],
   "cell_type": "code",
   "metadata": {},
   "execution_count": 123,
   "outputs": []
  },
  {
   "cell_type": "code",
   "execution_count": 125,
   "metadata": {},
   "outputs": [],
   "source": [
    "#plot 4 min situation\n",
    "time_4,temp_4 = helpers.reader('FourMinutes.txt')\n",
    "sqrtime_4, sqr_4 = helpers.square_wave(5.2,98.7,240,False,1500)\n",
    "plt.plot(time_4,temp_4,sqrtime_4,sqr_4)\n",
    "plt.ylim(ymax = 120, ymin = 0)\n",
    "plt.xlabel('Time (s)')\n",
    "plt.ylabel('Temperature (°C)')\n",
    "plt.title('Temperature vs Time in Rubber, Period = 4 min')\n",
    "plt.legend(('Measured Temperature','Applied Temperature'), loc = 'best')\n",
    "plt.show()"
   ]
  },
  {
   "cell_type": "code",
   "execution_count": 129,
   "metadata": {},
   "outputs": [],
   "source": [
    "#plot 3 min situation\n",
    "time_3,temp_3 = helpers.reader('ThreeMinutes.txt')\n",
    "sqrtime_3, sqr_3 = helpers.square_wave(5.2,98.7,180,False,1400)\n",
    "plt.plot(time_3,temp_3,sqrtime_3,sqr_3)\n",
    "plt.ylim(ymax = 120, ymin = 0)\n",
    "plt.xlabel('Time (s)')\n",
    "plt.ylabel('Temperature (°C)')\n",
    "plt.title('Temperature vs Time in Rubber, Period = 3 min')\n",
    "plt.legend(('Measured Temperature','Applied Temperature'), loc = 'best')\n",
    "plt.show()"
   ]
  },
  {
   "cell_type": "code",
   "execution_count": 131,
   "metadata": {},
   "outputs": [],
   "source": [
    "#plot 2 min situation\n",
    "time_2,temp_2 = helpers.reader('TwoMinutes.txt')\n",
    "sqrtime_2, sqr_2 = helpers.square_wave(5.2,98.7,120,False,800)\n",
    "plt.plot(time_2,temp_2,sqrtime_2,sqr_2)\n",
    "plt.ylim(ymax = 120, ymin = 0)\n",
    "plt.xlabel('Time (s)')\n",
    "plt.ylabel('Temperature (°C)')\n",
    "plt.title('Temperature vs Time in Rubber, Period = 2 min')\n",
    "plt.legend(('Measured Temperature','Applied Temperature'), loc = 'best')\n",
    "plt.show()"
   ]
  },
  {
   "cell_type": "code",
   "execution_count": 100,
   "metadata": {},
   "outputs": [
    {
     "output_type": "stream",
     "name": "stdout",
     "text": [
      "{'x': [], 'y': []}\n"
     ]
    }
   ],
   "source": [
    "#just print out and see our clicks\n",
    "print(coordsdict)"
   ]
  },
  {
   "cell_type": "code",
   "execution_count": 101,
   "metadata": {},
   "outputs": [
    {
     "output_type": "stream",
     "name": "stdout",
     "text": [
      "[]\n",
      "nan\n",
      "d:\\Documents\\GitHub\\thernalDiff\\env\\lib\\site-packages\\numpy\\core\\_methods.py:261: RuntimeWarning: Degrees of freedom <= 0 for slice\n",
      "  ret = _var(a, axis=axis, dtype=dtype, out=out, ddof=ddof,\n",
      "d:\\Documents\\GitHub\\thernalDiff\\env\\lib\\site-packages\\numpy\\core\\_methods.py:221: RuntimeWarning: invalid value encountered in true_divide\n",
      "  arrmean = um.true_divide(arrmean, div, out=arrmean, casting='unsafe',\n",
      "d:\\Documents\\GitHub\\thernalDiff\\env\\lib\\site-packages\\numpy\\core\\_methods.py:253: RuntimeWarning: invalid value encountered in double_scalars\n",
      "  ret = ret.dtype.type(ret / rcount)\n"
     ]
    }
   ],
   "source": [
    "phase = get_dist(coordsdict,120) #calculate the time difference in each pair of data points. Comment this line out if need adjustments\n",
    "print(phase)\n",
    "print(np.std(phase,ddof=1))"
   ]
  },
  {
   "cell_type": "code",
   "execution_count": 102,
   "metadata": {},
   "outputs": [
    {
     "output_type": "error",
     "ename": "IndexError",
     "evalue": "pop from empty list",
     "traceback": [
      "\u001b[1;31m---------------------------------------------------------------------------\u001b[0m",
      "\u001b[1;31mIndexError\u001b[0m                                Traceback (most recent call last)",
      "\u001b[1;32m<ipython-input-102-0ff32b33b147>\u001b[0m in \u001b[0;36m<module>\u001b[1;34m\u001b[0m\n\u001b[0;32m      1\u001b[0m \u001b[1;31m#the adjustments\u001b[0m\u001b[1;33m\u001b[0m\u001b[1;33m\u001b[0m\u001b[1;33m\u001b[0m\u001b[0m\n\u001b[1;32m----> 2\u001b[1;33m \u001b[0mphase\u001b[0m\u001b[1;33m.\u001b[0m\u001b[0mpop\u001b[0m\u001b[1;33m(\u001b[0m\u001b[1;36m0\u001b[0m\u001b[1;33m)\u001b[0m\u001b[1;33m\u001b[0m\u001b[1;33m\u001b[0m\u001b[0m\n\u001b[0m",
      "\u001b[1;31mIndexError\u001b[0m: pop from empty list"
     ]
    }
   ],
   "source": [
    "#the adjustments\n",
    "phase.pop(0)"
   ]
  },
  {
   "cell_type": "code",
   "execution_count": 82,
   "metadata": {},
   "outputs": [
    {
     "output_type": "stream",
     "name": "stdout",
     "text": [
      "[163.4526141997307, 141.56627516592695, 114.38053961723077, 91.51814245408588]\n"
     ]
    }
   ],
   "source": [
    "#calculate mean\n",
    "import statistics\n",
    "means.append(statistics.mean(phase))\n",
    "print(means)"
   ]
  },
  {
   "cell_type": "code",
   "execution_count": 84,
   "metadata": {},
   "outputs": [],
   "source": [
    "#write the value to a text file\n",
    "with open(\"phaseDiff.txt\",'w') as f:\n",
    "    f.write(str(means))"
   ]
  },
  {
   "cell_type": "code",
   "execution_count": null,
   "metadata": {},
   "outputs": [],
   "source": []
  }
 ]
}