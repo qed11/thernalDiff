{
 "metadata": {
  "language_info": {
   "codemirror_mode": {
    "name": "ipython",
    "version": 3
   },
   "file_extension": ".py",
   "mimetype": "text/x-python",
   "name": "python",
   "nbconvert_exporter": "python",
   "pygments_lexer": "ipython3",
   "version": "3.8.3-final"
  },
  "orig_nbformat": 2,
  "kernelspec": {
   "name": "python3",
   "display_name": "Python 3.8.3 64-bit ('env': venv)",
   "metadata": {
    "interpreter": {
     "hash": "64d340156c35d93f7bddad49a84fcf8e8f249688e881a51f12f09c161c041098"
    }
   }
  }
 },
 "nbformat": 4,
 "nbformat_minor": 2,
 "cells": [
  {
   "cell_type": "code",
   "execution_count": 10,
   "metadata": {},
   "outputs": [],
   "source": [
    "import helpers\n",
    "import numpy as np\n",
    "import matplotlib.pyplot as plt\n",
    "import scipy.special as fnc\n",
    "%matplotlib widget\n",
    "r_diff = 9.594\n"
   ]
  },
  {
   "source": [
    "time_5,temp_5 = helpers.reader('FiveMinutes.txt')\n",
    "sqrtime_5, sqr_5 = helpers.square_wave(5.2,98.7,300,True,2000)\n",
    "plt.subplot(224)\n",
    "plt.plot(time_5,temp_5,sqrtime_5,sqr_5)\n",
    "plt.xlabel('time (s)')\n",
    "plt.ylabel('temperature (°C)')\n",
    "plt.title('Temperature vs Time in Rubber, Period = 5 min')\n",
    "plt.show()"
   ],
   "cell_type": "code",
   "metadata": {},
   "execution_count": 11,
   "outputs": [
    {
     "output_type": "display_data",
     "data": {
      "text/plain": "Canvas(toolbar=Toolbar(toolitems=[('Home', 'Reset original view', 'home', 'home'), ('Back', 'Back to previous …",
      "application/vnd.jupyter.widget-view+json": {
       "version_major": 2,
       "version_minor": 0,
       "model_id": "10ef4de5cf184e6a89da22a15477d8ca"
      }
     },
     "metadata": {}
    }
   ]
  },
  {
   "cell_type": "code",
   "execution_count": 12,
   "metadata": {},
   "outputs": [],
   "source": [
    "time_4,temp_4 = helpers.reader('FourMinutes.txt')\n",
    "sqrtime_4, sqr_4 = helpers.square_wave(5.2,98.7,240,False,1500)\n",
    "plt.subplot(223)\n",
    "plt.plot(time_4,temp_4,sqrtime_4,sqr_4)\n",
    "plt.xlabel('time (s)')\n",
    "plt.ylabel('temperature (°C)')\n",
    "plt.title('Temperature vs Time in Rubber, Period = 4 min')\n",
    "plt.show()"
   ]
  },
  {
   "cell_type": "code",
   "execution_count": 13,
   "metadata": {},
   "outputs": [],
   "source": [
    "time_3,temp_3 = helpers.reader('ThreeMinutes.txt')\n",
    "sqrtime_3, sqr_3 = helpers.square_wave(5.2,98.7,180,False,1400)\n",
    "plt.subplot(222)\n",
    "plt.plot(time_3,temp_3,sqrtime_3,sqr_3)\n",
    "plt.xlabel('time (s)')\n",
    "plt.ylabel('temperature (°C)')\n",
    "plt.title('Temperature vs Time in Rubber, Period = 3 min')\n",
    "plt.show()"
   ]
  },
  {
   "cell_type": "code",
   "execution_count": 14,
   "metadata": {},
   "outputs": [],
   "source": [
    "time_2,temp_2 = helpers.reader('TwoMinutes.txt')\n",
    "sqrtime_2, sqr_2 = helpers.square_wave(5.2,98.7,120,False,800)\n",
    "plt.subplot(221)\n",
    "plt.plot(time_2,temp_2,sqrtime_2,sqr_2)\n",
    "plt.xlabel('time (s)')\n",
    "plt.ylabel('temperature (°C)')\n",
    "plt.title('Temperature vs Time in Rubber, Period = 2 min')\n",
    "plt.show()"
   ]
  },
  {
   "cell_type": "code",
   "execution_count": 15,
   "metadata": {},
   "outputs": [
    {
     "output_type": "execute_result",
     "data": {
      "text/plain": [
       "[<matplotlib.lines.Line2D at 0x1c152e5aca0>]"
      ]
     },
     "metadata": {},
     "execution_count": 15
    }
   ],
   "source": [
    "a = np.linspace(0,14,1000)\n",
    "\n",
    "#plt.plot(a,fnc.bei(a),a,fnc.ber(a))\n",
    "plt.plot(a,np.arctan(fnc.bei(a)/fnc.ber(a)))"
   ]
  },
  {
   "cell_type": "code",
   "execution_count": 16,
   "metadata": {},
   "outputs": [
    {
     "output_type": "display_data",
     "data": {
      "text/plain": "Canvas(toolbar=Toolbar(toolitems=[('Home', 'Reset original view', 'home', 'home'), ('Back', 'Back to previous …",
      "application/vnd.jupyter.widget-view+json": {
       "version_major": 2,
       "version_minor": 0,
       "model_id": "e9362d8b1a6449bf8a08ed0f2f6b4606"
      }
     },
     "metadata": {}
    }
   ],
   "source": [
    "coordsdict = {\"x\": [], \"y\": []}\n",
    "#diffcoordsdict = {\"dx\": [], \"dy\": [], \"avgx\": [], \"avgy\": []}\n",
    "\n",
    "y_buf = [-1]\n",
    "x_buf = [-1]\n",
    "\n",
    "\n",
    "\n",
    "def onclick(event): \n",
    "    coordsdict[\"x\"].append(event.xdata)\n",
    "    coordsdict[\"y\"].append(event.ydata)\n",
    "\n",
    "fig, ax = plt.subplots()\n",
    "\n",
    "time_5,temp_5 = helpers.reader('FiveMinutes.txt')\n",
    "sqrtime_5, sqr_5 = helpers.square_wave(5.2,98.7,300,True,2000)\n",
    "\n",
    "\n",
    "ax.plot(time_5,temp_5,sqrtime_5,sqr_5)\n",
    "\n",
    "cid = fig.canvas.mpl_connect('button_press_event', onclick) \n",
    "plt.show()\n"
   ]
  },
  {
   "cell_type": "code",
   "execution_count": 18,
   "metadata": {},
   "outputs": [
    {
     "output_type": "stream",
     "name": "stdout",
     "text": [
      "{'x': [140.79132387714998, 322.6461625868274, 451.2751948448919, 610.9526141997308, 748.4526141997308, 917.0010012965049, 1054.501001296505, 1218.6139045223113, 1347.2429367803759, 1520.2268077481178], 'y': [97.77857227325441, 94.67857206208367, 5.553572062083656, 18.56250063351223, 98.00000063351223, 88.0357149192265, 5.000000633512229, 18.56250063351223, 98.27678634779795, 89.41964349065509]}\n"
     ]
    }
   ],
   "source": [
    "print(coordsdict)"
   ]
  },
  {
   "cell_type": "code",
   "execution_count": null,
   "metadata": {},
   "outputs": [],
   "source": []
  }
 ]
}